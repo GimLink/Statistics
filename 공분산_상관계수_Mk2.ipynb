{
  "nbformat": 4,
  "nbformat_minor": 0,
  "metadata": {
    "colab": {
      "provenance": []
    },
    "kernelspec": {
      "name": "python3",
      "display_name": "Python 3"
    },
    "language_info": {
      "name": "python"
    }
  },
  "cells": [
    {
      "cell_type": "markdown",
      "source": [
        "# 공분산과 상관계수"
      ],
      "metadata": {
        "id": "OvgRcQ3RHMVy"
      }
    },
    {
      "cell_type": "markdown",
      "source": [
        "## 표본공분산(Sample covariance)\n",
        "\n",
        "$${s_{xy}}=\\frac{1}{N}\\Sigma({x_i}-\\hat{x})({y_i}-\\hat{y})$$"
      ],
      "metadata": {
        "id": "BACaZ1QyHNq_"
      }
    },
    {
      "cell_type": "markdown",
      "source": [
        "## 표본상관계수(Sample correlation coefficient)\n",
        "\n",
        "공분산에 각각의 표준편차 값으로 나눈 값   \n",
        "각각의 표준편차를 나눠 주는 이유 자료 분포의 방향성만 분리해서 보기 위함과 표준화를 하기 위함\n",
        "\n",
        "$${r_xy} = \\frac{{s_xy}}{({s_x^2}{x_y^2})^{1/2}}$$"
      ],
      "metadata": {
        "id": "gFsmmFJAHPf9"
      }
    },
    {
      "cell_type": "code",
      "execution_count": null,
      "metadata": {
        "colab": {
          "base_uri": "https://localhost:8080/"
        },
        "id": "5qTPMFpGFBtD",
        "outputId": "2912ae35-1474-403c-d663-28d4cdf18243"
      },
      "outputs": [
        {
          "output_type": "stream",
          "name": "stdout",
          "text": [
            "Looking in indexes: https://pypi.org/simple, https://us-python.pkg.dev/colab-wheels/public/simple/\n",
            "Collecting koreanize-matplotlib\n",
            "  Downloading koreanize_matplotlib-0.0.1-py3-none-any.whl (2.5 MB)\n",
            "\u001b[K     |████████████████████████████████| 2.5 MB 7.5 MB/s \n",
            "\u001b[?25hRequirement already satisfied: matplotlib in /usr/local/lib/python3.7/dist-packages (from koreanize-matplotlib) (3.2.2)\n",
            "Requirement already satisfied: python-dateutil>=2.1 in /usr/local/lib/python3.7/dist-packages (from matplotlib->koreanize-matplotlib) (2.8.2)\n",
            "Requirement already satisfied: numpy>=1.11 in /usr/local/lib/python3.7/dist-packages (from matplotlib->koreanize-matplotlib) (1.21.6)\n",
            "Requirement already satisfied: cycler>=0.10 in /usr/local/lib/python3.7/dist-packages (from matplotlib->koreanize-matplotlib) (0.11.0)\n",
            "Requirement already satisfied: kiwisolver>=1.0.1 in /usr/local/lib/python3.7/dist-packages (from matplotlib->koreanize-matplotlib) (1.4.4)\n",
            "Requirement already satisfied: pyparsing!=2.0.4,!=2.1.2,!=2.1.6,>=2.0.1 in /usr/local/lib/python3.7/dist-packages (from matplotlib->koreanize-matplotlib) (3.0.9)\n",
            "Requirement already satisfied: typing-extensions in /usr/local/lib/python3.7/dist-packages (from kiwisolver>=1.0.1->matplotlib->koreanize-matplotlib) (4.1.1)\n",
            "Requirement already satisfied: six>=1.5 in /usr/local/lib/python3.7/dist-packages (from python-dateutil>=2.1->matplotlib->koreanize-matplotlib) (1.15.0)\n",
            "Installing collected packages: koreanize-matplotlib\n",
            "Successfully installed koreanize-matplotlib-0.0.1\n"
          ]
        }
      ],
      "source": [
        "!pip install koreanize-matplotlib"
      ]
    },
    {
      "cell_type": "code",
      "source": [
        "from sklearn.datasets import load_iris\n",
        "import scipy as sp\n",
        "import matplotlib.pyplot as plt\n",
        "import numpy as np\n",
        "import koreanize_matplotlib\n"
      ],
      "metadata": {
        "id": "UWGgvXM1HVVX"
      },
      "execution_count": null,
      "outputs": []
    },
    {
      "cell_type": "code",
      "source": [
        "X = load_iris()"
      ],
      "metadata": {
        "id": "isBjX2LJHyVV"
      },
      "execution_count": null,
      "outputs": []
    },
    {
      "cell_type": "code",
      "source": [
        "X.keys()\n",
        "X.feature_names"
      ],
      "metadata": {
        "colab": {
          "base_uri": "https://localhost:8080/"
        },
        "id": "wPOFI8QjKCcJ",
        "outputId": "0985b0da-37a4-470e-a159-78447aef7022"
      },
      "execution_count": null,
      "outputs": [
        {
          "output_type": "execute_result",
          "data": {
            "text/plain": [
              "['sepal length (cm)',\n",
              " 'sepal width (cm)',\n",
              " 'petal length (cm)',\n",
              " 'petal width (cm)']"
            ]
          },
          "metadata": {},
          "execution_count": 4
        }
      ]
    },
    {
      "cell_type": "code",
      "source": [
        "sepal_length = X.data[:, 0]\n",
        "sepal_width = X.data[:, 1]\n",
        "petal_length = X.data[:, 2]\n",
        "petal_width = X.data[:, 3]\n",
        "sp.stats.pearsonr(sepal_length, petal_length)[0]"
      ],
      "metadata": {
        "colab": {
          "base_uri": "https://localhost:8080/"
        },
        "id": "WZhZwfYlINlt",
        "outputId": "99d30e57-39f6-4921-9a2b-415b217a2dfd"
      },
      "execution_count": null,
      "outputs": [
        {
          "output_type": "execute_result",
          "data": {
            "text/plain": [
              "0.8717537758865831"
            ]
          },
          "metadata": {},
          "execution_count": 5
        }
      ]
    },
    {
      "cell_type": "markdown",
      "source": [
        "## 상관계수 Scatter Plot\n"
      ],
      "metadata": {
        "id": "maCutDv2SsfT"
      }
    },
    {
      "cell_type": "markdown",
      "source": [
        "피어슨 상관계수의 경우 선형적인 관계만을 측정하기 때문에 선형적이 않으면서 관계가 있는 데이터의 경우에 피어슨 상관계수는 0"
      ],
      "metadata": {
        "id": "GCm44FpqStk5"
      }
    },
    {
      "cell_type": "code",
      "source": [
        "np.random.seed(0)\n",
        "corrs = [1, 0.7, 0.3, 0, -0.3, -0.7, -1]\n",
        "plt.figure(figsize=(len(corrs) , 2))\n",
        "for i, r in enumerate(corrs):\n",
        "  x, y, = np.random.multivariate_normal([0,0], [[1, r],[r, 1]], 1000).T\n",
        "  plt.subplot(1, len(corrs), i + 1)\n",
        "  plt.plot(x,y, 'ro', ms=1)\n",
        "  plt.axis('equal')\n",
        "  plt.xticks([])\n",
        "  plt.yticks([])\n",
        "  plt.title(f'corr : {r}')\n",
        "\n",
        "plt.suptitle('상관계수와 산점도 그래프의 모양', y=1.1)\n",
        "plt.tight_layout()\n",
        "plt.show()\n"
      ],
      "metadata": {
        "colab": {
          "base_uri": "https://localhost:8080/",
          "height": 179
        },
        "id": "mHkcoq50JWy7",
        "outputId": "9b2d38f6-8c08-4f4c-e1d9-43a5da6add01"
      },
      "execution_count": null,
      "outputs": [
        {
          "output_type": "display_data",
          "data": {
            "text/plain": [
              "<Figure size 504x144 with 7 Axes>"
            ],
            "image/png": "[encoded data removed]"
          },
          "metadata": {}
        }
      ]
    },
    {
      "cell_type": "code",
      "source": [
        "# 랜덤 요소 제거\n",
        "np.random.seed(1)\n",
        "# 기울기 설정\n",
        "slops = [1, 0.7, 0.3, 0, -0.3, -0.7, -1]\n",
        "# 그래프 설정\n",
        "plt.figure(figsize=(len(slops),2))\n",
        "for i, s in enumerate(slops):\n",
        "  # 서브플롯 배경 그리기\n",
        "  plt.subplot(1, len(slops), i + 1)\n",
        "  # 다변수 표준정규분포\n",
        "  x, y = np.random.multivariate_normal([0,0], [[1,1], [1,1]], 100).T\n",
        "  # 기울기변경\n",
        "  y2 = s * y\n",
        "  # 데이터 플롯 그리기\n",
        "  plt.plot(x, y2, 'ro', ms=1)\n",
        "  # y값과 x값의 스케일을 맞춰줌\n",
        "  plt.axis('equal')\n",
        "  # 특정된 x나 y값을 표현하는건데 지금은 아무것도 표현하지 않도록 설정\n",
        "  # 만약 아무것도 안주면 자동으로 생성하기 때문에 [] 인자 전달\n",
        "  plt.xticks([])\n",
        "  plt.yticks([])\n",
        "  if s > 0:\n",
        "    # 서브플롯의 제목\n",
        "    plt.title('corr=1')\n",
        "  else:\n",
        "    plt.title('corr=-1')\n",
        "# 플롯의 대제목\n",
        "plt.suptitle('상관계수와 기울기의 관계', y=1.1)\n",
        "# 축의 글자가 겹치지 않도록 layout 설정\n",
        "plt.tight_layout()\n",
        "# 그래프 show\n",
        "plt.show()\n"
      ],
      "metadata": {
        "colab": {
          "base_uri": "https://localhost:8080/",
          "height": 179
        },
        "id": "_uYOT83VQ7GZ",
        "outputId": "a74dfe64-67c8-4a8f-e20c-6bce430715f0"
      },
      "execution_count": null,
      "outputs": [
        {
          "output_type": "display_data",
          "data": {
            "text/plain": [
              "<Figure size 504x144 with 7 Axes>"
            ],
            "image/png": "[encoded data removed]"
          },
          "metadata": {}
        }
      ]
    },
    {
      "cell_type": "code",
      "source": [
        "n = 500\n",
        "np.random.seed(2)\n",
        "\n",
        "plt.subplot(221)\n",
        "x1 = np.random.uniform(-1, 1, n)\n",
        "y1 = 2*x1**2 + np.random.uniform(-0.1, 0.1,n)\n",
        "plt.scatter(x1,y1)\n",
        "r1 = sp.stats.pearsonr(x1, y1)[0]\n",
        "plt.title(f'비선형 상관관계 : 1: r= {r1.round(3)}')\n",
        "\n",
        "plt.subplot(222)\n",
        "x2 = np.random.uniform(-1,1, n)\n",
        "y2 = 4 * (x2**2-0.5)**2 + 0.1 * np.random.uniform(-0.1, 0.1,n)\n",
        "plt.scatter(x2,y2)\n",
        "r2 = sp.stats.pearsonr(x2, y2)[0]\n",
        "plt.title(f'비선형 상관관계 2:r={r2.round(3)}')\n",
        "\n",
        "plt.subplot(223)\n",
        "x3 = np.random.uniform(-1,1, n)\n",
        "y3 = np.cos(x3 * np.pi) + np.random.uniform(0, 1/8, n)\n",
        "x3 = np.sin(x3 * np.pi) + np.random.uniform(0, 1/8, n)\n",
        "plt.scatter(x3, y3)\n",
        "r3 = sp.stats.pearsonr(x3, y3)[0]\n",
        "plt.title(f'비선형 상관관계 3 : r={r3.round(3)}')\n",
        "plt.tight_layout()\n",
        "plt.show()"
      ],
      "metadata": {
        "colab": {
          "base_uri": "https://localhost:8080/",
          "height": 297
        },
        "id": "Ot7r2B_uVjXp",
        "outputId": "e61a13d6-e926-416e-f06a-446eaa9ffc25"
      },
      "execution_count": null,
      "outputs": [
        {
          "output_type": "display_data",
          "data": {
            "text/plain": [
              "<Figure size 432x288 with 3 Axes>"
            ],
            "image/png": "[encoded data removed]"
          },
          "metadata": {
            "needs_background": "light"
          }
        }
      ]
    },
    {
      "cell_type": "code",
      "source": [],
      "metadata": {
        "id": "vc2TMO7jXXsm"
      },
      "execution_count": null,
      "outputs": []
    }
  ]
}